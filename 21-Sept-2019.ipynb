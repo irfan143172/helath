{
 "cells": [
  {
   "cell_type": "markdown",
   "metadata": {},
   "source": [
    "## Day Objectives\n",
    "### Date 21-09-2019\n",
    "* yesterday topics Revision\n",
    "* Opereators\n",
    "   * Arthematic Operators(+,-,*,%,//,**)\n",
    "   * Assignment Operators(=,+=,-=,/=,//=,**=)\n",
    "   * Comparison Operators (or)Relational Operators(<,<=,>=,!=,==)\n",
    "   * Logical Operators(and,or,not)\n",
    "   * Identity Operators(is,not is)\n",
    "   * Membership Operators(in,not in)\n",
    "   * Logical Operators(and,or,not) * Logical Operators(and,or,not)\n",
    "* Control Statements\n",
    "    * If\n",
    "    * If Else\n",
    "    * Nested If\n",
    "    * elif\n",
    "* Loops\n",
    "    *for\n",
    "    *while\n",
    "    "
   ]
  },
  {
   "cell_type": "code",
   "execution_count": null,
   "metadata": {},
   "outputs": [],
   "source": [
    " #Assignment Operators(=,+=,-=,/=,//=,**=)\n",
    "a=11\n",
    "a+=0\n",
    "a-=1\n",
    "a\n",
    "a*=3\n",
    "a\n",
    "a/=5\n",
    "a\n",
    "a//=2\n",
    "a\n",
    "a**=2\n",
    "a"
   ]
  },
  {
   "cell_type": "code",
   "execution_count": null,
   "metadata": {},
   "outputs": [],
   "source": [
    "#Comparison Operators (or)Relational Operators(<,<=,>=,!=,==)\n",
    "a=2\n",
    "b=4\n",
    "print(a<b)\n",
    "print(b<a)\n",
    "print(a<=b)\n",
    "print(a>=b)\n",
    "print(a!=b)\n",
    "print(a==b)\n"
   ]
  },
  {
   "cell_type": "code",
   "execution_count": null,
   "metadata": {},
   "outputs": [],
   "source": [
    "#Logical Operators(and,or,not)\n",
    "12>11 and 3<3\n",
    "12>10 or 3<3\n",
    "not(12>10 and 3<3)"
   ]
  },
  {
   "cell_type": "code",
   "execution_count": null,
   "metadata": {},
   "outputs": [],
   "source": [
    "#Bitwise Operators(&,|,~,<<,>>)\n",
    "a=1\n",
    "b=8\n",
    "~b\n",
    "a<<3\n",
    "a>>4\n",
    "b|a\n",
    "b&a"
   ]
  },
  {
   "cell_type": "code",
   "execution_count": null,
   "metadata": {},
   "outputs": [],
   "source": [
    "#Conditional Statements\n",
    "#if condition:\n",
    "#   statements\n",
    "# 1.To check whether it is given number is even or odd number?\n",
    "#input :n=10\n",
    "#ouput :10 is even number\n",
    "#static way of implementation\n",
    "n=99\n",
    "if n%2==0:\n",
    "    print(\"%d is even\"%n)\n",
    "    \n",
    "else:\n",
    "    print(\"%d is odd\"%n)"
   ]
  },
  {
   "cell_type": "code",
   "execution_count": null,
   "metadata": {},
   "outputs": [],
   "source": [
    "a=2\n",
    "if a>3:\n",
    "    print(\"hai\")\n",
    "else:print(\"MAHI\")    "
   ]
  },
  {
   "cell_type": "code",
   "execution_count": null,
   "metadata": {},
   "outputs": [],
   "source": [
    "if a<4 and a>1:\n",
    "    print(a)"
   ]
  },
  {
   "cell_type": "code",
   "execution_count": null,
   "metadata": {},
   "outputs": [],
   "source": [
    "#write a program to find the biggest of two nummbers?\n",
    "# input:a=12 b=35\n",
    "# output:35 is biggest\n",
    "a=12\n",
    "b=35\n",
    "if a>b:\n",
    "    print(\"%d is biggest value.\"%a)\n",
    "else:\n",
    "    print(\"%d is biggest value.\"%b)"
   ]
  },
  {
   "cell_type": "code",
   "execution_count": null,
   "metadata": {},
   "outputs": [],
   "source": [
    "#TASKS\n",
    "#1.write a python program to check whether it is positive number or negative number?\n",
    "n=int(input())\n",
    "if n>0:\n",
    "    print(\"%d is a positive number\"%n)\n",
    "else:\n",
    "    print(\"%d is a negative number\"%n)"
   ]
  },
  {
   "cell_type": "code",
   "execution_count": null,
   "metadata": {},
   "outputs": [],
   "source": [
    "#2.write a python program to check whether it is given two numbers are equal or not?\n",
    "n=int(input())\n",
    "m=int(input())\n",
    "if n==m:\n",
    "    print(\"equal\")\n",
    "else:\n",
    "    print(\"not equal\")\n"
   ]
  },
  {
   "cell_type": "code",
   "execution_count": null,
   "metadata": {},
   "outputs": [],
   "source": [
    "#3.write a python program to check whether it is given year is leap year or not?\n",
    "n=int(input())\n",
    "if (((n%4==0)&(n%400==0))|(n%100!=0)):\n",
    "    print(\"%d is a leap year\"%n)\n",
    "else:\n",
    "    print(\"%d is not a leap year\"%n)"
   ]
  },
  {
   "cell_type": "code",
   "execution_count": null,
   "metadata": {},
   "outputs": [],
   "source": [
    "#4.write a program to check if age is greater than 18 print elgible to cast vote else not\n",
    "n=int(input())\n",
    "if n>18:\n",
    "    print(\"eligible to cast vote\")\n",
    "else:\n",
    "    print(\"not eligible to cast vote\")"
   ]
  },
  {
   "cell_type": "code",
   "execution_count": null,
   "metadata": {},
   "outputs": [],
   "source": [
    "#5.write a program to calculate the simple interest?\n",
    "p=int(input())\n",
    "t=int(input())\n",
    "r=int(input())\n",
    "i=(p*t*r/100)\n",
    "print(\"%d\"%i)\n"
   ]
  },
  {
   "cell_type": "code",
   "execution_count": null,
   "metadata": {},
   "outputs": [],
   "source": [
    "# nested if\n",
    "#if condition:\n",
    "#    if condition:\n",
    "#        statement\n",
    "n=int(input())\n",
    "if n>0:\n",
    "    if n%2==0:\n",
    "        print(\"%d is even number\"%n)\n",
    "    else:\n",
    "        print(\"%d is odd number\"%n)\n",
    "else:\n",
    "    print(\"%d is negative number\"%n)"
   ]
  },
  {
   "cell_type": "code",
   "execution_count": null,
   "metadata": {},
   "outputs": [],
   "source": [
    "# syntax of elif\n",
    "#if condition:\n",
    "#    statements:\n",
    "#elif condition:\n",
    "#    statements:\n",
    "#else:\n",
    "#    statements:\n",
    "#1.write a python program to print week days?\n",
    "#input:1\n",
    "#output:sunday\n",
    "n=int(input())\n",
    "if (n==1):\n",
    "    print(\"sunday\")\n",
    "elif (n==2):\n",
    "    print(\"monday\")\n",
    "elif (n==3): \n",
    "    print(\"tuesday\")\n",
    "elif (n==4):\n",
    "    print(\"wednesday\")\n",
    "elif (n==5):\n",
    "    print(\"thursday\")\n",
    "elif (n==6):\n",
    "    print(\"friday\")\n",
    "elif (n==7):\n",
    "    print(\"saturday\")\n",
    "else:\n",
    "    print(\"not a week\")"
   ]
  },
  {
   "cell_type": "code",
   "execution_count": null,
   "metadata": {},
   "outputs": [],
   "source": [
    "#loop\n",
    "#for variable_name in range (lowerbound,upperbound):\n",
    "#lowerbound-->inclusive,upperbound-->exclusive\n",
    "#   statement\n",
    "#1.To print 1 to 5 natural numbers?\n",
    "i=int(input())\n",
    "for i in range(1,6):\n",
    "    print(i,end=\"\")"
   ]
  },
  {
   "cell_type": "code",
   "execution_count": null,
   "metadata": {},
   "outputs": [],
   "source": [
    "for i in range(1,6):\n",
    "    print(i)"
   ]
  },
  {
   "cell_type": "code",
   "execution_count": null,
   "metadata": {},
   "outputs": [],
   "source": [
    "for i in range(6):\n",
    "    print(i)"
   ]
  },
  {
   "cell_type": "code",
   "execution_count": null,
   "metadata": {},
   "outputs": [],
   "source": [
    "#for i in range(start,stop,step)\n",
    "for i in range(1,7,3):\n",
    "      print(\"00%d\"%i)"
   ]
  },
  {
   "cell_type": "code",
   "execution_count": null,
   "metadata": {},
   "outputs": [],
   "source": [
    "n=int(input())\n",
    "for n in range(1,n+1):\n",
    "    print(n)"
   ]
  },
  {
   "cell_type": "code",
   "execution_count": null,
   "metadata": {},
   "outputs": [],
   "source": [
    "n=int(input())\n",
    "for n in range(n,-1,-1):\n",
    "    print(n)"
   ]
  },
  {
   "cell_type": "code",
   "execution_count": null,
   "metadata": {},
   "outputs": [],
   "source": [
    "#1.to print sum of 1 to n natural numbers?\n",
    "n=int(input())\n",
    "sum=0\n",
    "for i in range(1,n+1):\n",
    "    sum=sum+i\n",
    "print(sum)"
   ]
  },
  {
   "cell_type": "code",
   "execution_count": null,
   "metadata": {},
   "outputs": [],
   "source": [
    "#2.to print factorial of a given number?\n",
    "n=int(input())\n",
    "fact=1\n",
    "for i in range(1,n+1):\n",
    "    fact=fact*i\n",
    "print(fact)"
   ]
  },
  {
   "cell_type": "code",
   "execution_count": null,
   "metadata": {},
   "outputs": [],
   "source": [
    "#3.to print factors of a given number?\n",
    "n=int(input())\n",
    "for i in range(1,n+1):\n",
    "    if n%i==0:\n",
    "        print(i)"
   ]
  },
  {
   "cell_type": "code",
   "execution_count": null,
   "metadata": {},
   "outputs": [],
   "source": [
    "#4.to print the count of even numbers and odd numbers of a given range?\n",
    "n=int(input())\n",
    "e=0\n",
    "o=0\n",
    "for i in range(1,n+1):\n",
    "    for j in range(n):\n",
    "        if(n%2==0):\n",
    "            e=e+1\n",
    "        else:\n",
    "            o=o+1\n",
    "print(e)\n",
    "print(o)"
   ]
  },
  {
   "cell_type": "code",
   "execution_count": null,
   "metadata": {},
   "outputs": [],
   "source": [
    "#5.to check whether the given number is prime or not?"
   ]
  },
  {
   "cell_type": "code",
   "execution_count": null,
   "metadata": {},
   "outputs": [],
   "source": [
    "#6.to print prime numbers from 1to n?"
   ]
  },
  {
   "cell_type": "code",
   "execution_count": null,
   "metadata": {},
   "outputs": [],
   "source": [
    "#7.to print primr numbers from n to m?"
   ]
  },
  {
   "cell_type": "code",
   "execution_count": null,
   "metadata": {},
   "outputs": [],
   "source": [
    "#8.to check whether the given number is perfect or not?"
   ]
  },
  {
   "cell_type": "code",
   "execution_count": null,
   "metadata": {},
   "outputs": [],
   "source": [
    "#9.to print 1 to n perfect numbers?"
   ]
  },
  {
   "cell_type": "code",
   "execution_count": null,
   "metadata": {},
   "outputs": [],
   "source": [
    "#10.to print avg of prime numbers from 20 to 55 both are exclusive?"
   ]
  },
  {
   "cell_type": "code",
   "execution_count": null,
   "metadata": {},
   "outputs": [],
   "source": [
    "#11.to generate the numbers in between 100 to 1000 which is divisible by 5 and not a factor of 100?"
   ]
  },
  {
   "cell_type": "code",
   "execution_count": 7,
   "metadata": {},
   "outputs": [
    {
     "ename": "IndentationError",
     "evalue": "expected an indented block (<ipython-input-7-d4d0e67fa734>, line 5)",
     "output_type": "error",
     "traceback": [
      "\u001b[1;36m  File \u001b[1;32m\"<ipython-input-7-d4d0e67fa734>\"\u001b[1;36m, line \u001b[1;32m5\u001b[0m\n\u001b[1;33m    output=(i/n)\u001b[0m\n\u001b[1;37m                ^\u001b[0m\n\u001b[1;31mIndentationError\u001b[0m\u001b[1;31m:\u001b[0m expected an indented block\n"
     ]
    }
   ],
   "source": [
    "#12.to find the factors avg of a given number?\n",
    "n=int(input())\n",
    "for i in range(1,n+1):\n",
    "    if n%i==0:\n",
    "output=\n",
    "print(output)"
   ]
  },
  {
   "cell_type": "code",
   "execution_count": null,
   "metadata": {},
   "outputs": [],
   "source": [
    "#while condition:\n",
    "#    statement\n",
    "#    updation\n",
    "#1.to count number of digits of a given number?\n",
    "n=int(input())\n",
    "c=0\n",
    "while n!=0:\n",
    "    c=c+1\n",
    "    n=n//10\n",
    "print(c)    \n",
    "\n",
    "\n"
   ]
  },
  {
   "cell_type": "code",
   "execution_count": null,
   "metadata": {},
   "outputs": [],
   "source": [
    "#1.to print only even digits of a given number?\n",
    "#input:n=567894\n",
    "#output:4 8 6\n",
    "n=int(input())\n",
    "c=0\n",
    "while n!=0:\n",
    "    c=c+1\n",
    "    n=n//10\n",
    "if n%2!=0:"
   ]
  },
  {
   "cell_type": "code",
   "execution_count": null,
   "metadata": {},
   "outputs": [],
   "source": [
    "#2.to print reverse of a given number?\n",
    "n=int(input())\n",
    "rev=0\n",
    "while n!=0:\n",
    "    rem=n%10\n",
    "    rev=rev*10+rem\n",
    "    n=n//10\n",
    "print(rev)    "
   ]
  },
  {
   "cell_type": "code",
   "execution_count": 2,
   "metadata": {},
   "outputs": [
    {
     "name": "stdout",
     "output_type": "stream",
     "text": [
      "343\n",
      "palindrome\n"
     ]
    }
   ],
   "source": [
    "#3.to check whether the given number is palindrome or not?\n",
    "n=int(input())\n",
    "temp=n\n",
    "rev=0\n",
    "while temp!=0:\n",
    "    rem=temp%10\n",
    "    rev=rev*10+rem\n",
    "    temp=temp//10\n",
    "if rev==n:\n",
    "        print(\"palindrome\")\n",
    "else:\n",
    "        print(\"not palindrome\")"
   ]
  },
  {
   "cell_type": "code",
   "execution_count": null,
   "metadata": {},
   "outputs": [],
   "source": [
    "#4.to check whether the given number is special number or not?"
   ]
  },
  {
   "cell_type": "code",
   "execution_count": null,
   "metadata": {},
   "outputs": [],
   "source": []
  }
 ],
 "metadata": {
  "kernelspec": {
   "display_name": "Python 3",
   "language": "python",
   "name": "python3"
  },
  "language_info": {
   "codemirror_mode": {
    "name": "ipython",
    "version": 3
   },
   "file_extension": ".py",
   "mimetype": "text/x-python",
   "name": "python",
   "nbconvert_exporter": "python",
   "pygments_lexer": "ipython3",
   "version": "3.7.3"
  }
 },
 "nbformat": 4,
 "nbformat_minor": 2
}
