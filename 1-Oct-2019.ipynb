{
 "cells": [
  {
   "cell_type": "code",
   "execution_count": null,
   "metadata": {},
   "outputs": [],
   "source": [
    "#Tuple\n",
    "## it is a collection of heterogeneous data and it is immutable\n",
    "### it is represented in ()"
   ]
  },
  {
   "cell_type": "code",
   "execution_count": null,
   "metadata": {},
   "outputs": [],
   "source": [
    "l=(1,2.3,\"mahi\",True)\n",
    "l"
   ]
  },
  {
   "cell_type": "code",
   "execution_count": null,
   "metadata": {},
   "outputs": [],
   "source": [
    "l[2]"
   ]
  },
  {
   "cell_type": "code",
   "execution_count": null,
   "metadata": {},
   "outputs": [],
   "source": [
    "l[::-1]"
   ]
  },
  {
   "cell_type": "code",
   "execution_count": null,
   "metadata": {},
   "outputs": [],
   "source": [
    "dir(tuple)"
   ]
  },
  {
   "cell_type": "code",
   "execution_count": null,
   "metadata": {},
   "outputs": [],
   "source": [
    "t=(1,1,2,3,4,4,4)\n",
    "t.count(1)#it counts no of elements of 1 present.\n",
    "len(t)#it gives total number of elements.\n",
    "\n"
   ]
  },
  {
   "cell_type": "code",
   "execution_count": null,
   "metadata": {},
   "outputs": [],
   "source": [
    "t.index(2)"
   ]
  },
  {
   "cell_type": "code",
   "execution_count": null,
   "metadata": {},
   "outputs": [],
   "source": [
    "#dictionaries\n",
    "# it is a collection of heterogenous and mutable\n",
    "## if you want to store the data in dictionaries we need to use key value\n",
    "### Dictionaries will acess key value based\n",
    "#### dictionaries syntax:-d={\"key1\":val1,key2:val2}\n",
    "d={\"a\":11,\"b\":12,\"c\":13,\"d\":11}\n",
    "d"
   ]
  },
  {
   "cell_type": "code",
   "execution_count": null,
   "metadata": {},
   "outputs": [],
   "source": [
    "d[\"a\"]#Through the keys only we can acess the elements from the dictionary\n"
   ]
  },
  {
   "cell_type": "code",
   "execution_count": null,
   "metadata": {},
   "outputs": [],
   "source": [
    "len(d)"
   ]
  },
  {
   "cell_type": "code",
   "execution_count": null,
   "metadata": {},
   "outputs": [],
   "source": [
    "d[\"a\"]\n",
    "m={\"\":1111}\n",
    "m[\"\"]\n",
    "m[\"1\"]=12\n",
    "m\n",
    "len(m)\n",
    "dir(dict)"
   ]
  },
  {
   "cell_type": "code",
   "execution_count": null,
   "metadata": {},
   "outputs": [],
   "source": [
    "type(d)"
   ]
  },
  {
   "cell_type": "code",
   "execution_count": null,
   "metadata": {},
   "outputs": [],
   "source": [
    "d.keys()"
   ]
  },
  {
   "cell_type": "code",
   "execution_count": null,
   "metadata": {},
   "outputs": [],
   "source": [
    "d.values()"
   ]
  },
  {
   "cell_type": "code",
   "execution_count": null,
   "metadata": {},
   "outputs": [],
   "source": [
    "d.items()"
   ]
  },
  {
   "cell_type": "code",
   "execution_count": null,
   "metadata": {},
   "outputs": [],
   "source": [
    "d.pop(\"c\")"
   ]
  },
  {
   "cell_type": "code",
   "execution_count": null,
   "metadata": {},
   "outputs": [],
   "source": [
    "m.clear()\n",
    "m"
   ]
  },
  {
   "cell_type": "code",
   "execution_count": null,
   "metadata": {},
   "outputs": [],
   "source": [
    "l=d.copy()# it is used to copy the dictionary to another dictionary\n",
    "l"
   ]
  },
  {
   "cell_type": "code",
   "execution_count": null,
   "metadata": {},
   "outputs": [],
   "source": [
    "d.fromkeys(\"1\")"
   ]
  },
  {
   "cell_type": "code",
   "execution_count": null,
   "metadata": {},
   "outputs": [],
   "source": [
    "k=(\"k1\",\"k2\",\"k3\")\n",
    "v=(11,11,11)\n",
    "p=dict.fromkeys(k,v)\n",
    "p"
   ]
  },
  {
   "cell_type": "code",
   "execution_count": null,
   "metadata": {},
   "outputs": [],
   "source": [
    "p.get(\"a\")\n",
    "p"
   ]
  },
  {
   "cell_type": "code",
   "execution_count": null,
   "metadata": {},
   "outputs": [],
   "source": [
    "d.get(\"d\")"
   ]
  },
  {
   "cell_type": "code",
   "execution_count": null,
   "metadata": {},
   "outputs": [],
   "source": [
    "d.popitem()"
   ]
  },
  {
   "cell_type": "code",
   "execution_count": null,
   "metadata": {},
   "outputs": [],
   "source": [
    "d"
   ]
  },
  {
   "cell_type": "code",
   "execution_count": null,
   "metadata": {},
   "outputs": [],
   "source": [
    "d.popitem()"
   ]
  },
  {
   "cell_type": "code",
   "execution_count": null,
   "metadata": {},
   "outputs": [],
   "source": [
    "d"
   ]
  },
  {
   "cell_type": "code",
   "execution_count": null,
   "metadata": {},
   "outputs": [],
   "source": [
    "d.setdefault('1',45)\n",
    "d"
   ]
  },
  {
   "cell_type": "code",
   "execution_count": null,
   "metadata": {},
   "outputs": [],
   "source": [
    "d[\"1\"]=45\n",
    "d"
   ]
  },
  {
   "cell_type": "code",
   "execution_count": null,
   "metadata": {},
   "outputs": [],
   "source": [
    "d.update()\n",
    "d"
   ]
  },
  {
   "cell_type": "code",
   "execution_count": null,
   "metadata": {},
   "outputs": [],
   "source": [
    "d.get(\"1\")\n",
    "w={1:[1,2,3]}\n",
    "w.values()"
   ]
  },
  {
   "cell_type": "code",
   "execution_count": null,
   "metadata": {},
   "outputs": [],
   "source": [
    "#TASKS\n",
    "#1.create a dictionary to store the employee details.\n",
    " #  name:-mahesh\n",
    "#   mobile:-7989950996\n",
    "#emailid:-bmaheshmahi234@gmail.com\n",
    "#age:-21\n",
    "d={\"name\":\"mahesh\",\"mobile\":7989950996,\"email_id\":\"bmaheshmahi234@gmail.com\",\"age\":21}\n",
    "d\n"
   ]
  },
  {
   "cell_type": "code",
   "execution_count": null,
   "metadata": {},
   "outputs": [],
   "source": [
    "#2.create a dictionary to store the multiple employee details\n",
    "# through the employee id\n",
    "# emp1={1:[\"mahesh\",7989950996,\"bmaheshmahi234@gmil.com\",21]}\n",
    "# emp2={2:[\"m\",123,\"mahi@gmail.com\",12]}\n",
    "# emp3={3:[\"n\",234,\"maa@gmail.com\",19]}\n",
    "# emp4={4:[\"hey\",420,\"maamaa@gmail.com\",43]}\n",
    "# emp5={5:[\"hai\",150,\"nana@gmail.com\",54]}\n",
    "# emp3\n",
    "\n",
    "def empd(n):\n",
    "    d={}\n",
    "    s=input().split()\n",
    "    for i in range(1,n+1):\n",
    "        empid=int(input(\"enter a empid\"))\n",
    "        s=input(\" enter emp details with space\").split()\n",
    "        d[empid]=s\n",
    "    return d\n",
    "n=int(input())\n",
    "empd(n)\n",
    "\n",
    "    "
   ]
  },
  {
   "cell_type": "code",
   "execution_count": 2,
   "metadata": {},
   "outputs": [
    {
     "name": "stdout",
     "output_type": "stream",
     "text": [
      "23\n",
      "0\n"
     ]
    }
   ],
   "source": [
    "#3.l=[10,20,10,40,40,50,70] by using this list create a dictionary to store the  number of occurences of a list element?\n",
    "#eg:-d={10:2,20:1,40:2,30:1}\n",
    "#key:list values or elements\n",
    "# values are:number of occurances of elements\n",
    "n=int(input())\n",
    "l=[10,20,10,40,40,50,70]\n",
    "if n in l:\n",
    "             print(l.count(n))\n",
    "else:\n",
    "    print(0)\n",
    "    "
   ]
  },
  {
   "cell_type": "code",
   "execution_count": 8,
   "metadata": {},
   "outputs": [
    {
     "name": "stdout",
     "output_type": "stream",
     "text": [
      "{'p': 2, 'y': 1, 't': 1, 'h': 1, 'o': 2, 'n': 2, 'r': 2, 'g': 2, 'a': 1, 'm': 2, 'i': 1}\n"
     ]
    }
   ],
   "source": [
    "#4.\"pythonProgramming\" by using the string to create a dictionary with consists of character and number of occurance?\n",
    "#EG:-d={'p':2,'y':1,'t':1}\n",
    "d={}\n",
    "s=\"pythonprogramming\"\n",
    "for i in s:\n",
    "    d[i]=s.count(i)\n",
    "print(d)"
   ]
  },
  {
   "cell_type": "code",
   "execution_count": 7,
   "metadata": {},
   "outputs": [
    {
     "name": "stdout",
     "output_type": "stream",
     "text": [
      "{'ramesh': 1, 'suresh': 1, 'mahesh': 2}\n"
     ]
    }
   ],
   "source": [
    "#5.l=\"mahesh mahesh mahesh mahesh\"##  l=s.split(\" \")\n",
    "# eg:- d={'mahesh':4}\n",
    "d={}\n",
    "l=[\"ramesh\",\"suresh\",\"mahesh\",\"mahesh\"]\n",
    "for i in l:\n",
    "    d[i]=l.count(i)\n",
    "print(d)\n",
    "    "
   ]
  },
  {
   "cell_type": "code",
   "execution_count": 10,
   "metadata": {},
   "outputs": [
    {
     "name": "stdout",
     "output_type": "stream",
     "text": [
      "{1: 1, 2: 4, 3: 9, 4: 16, 5: 25, 6: 36, 7: 49, 8: 64, 9: 81, 10: 100, 11: 121, 12: 144, 13: 169, 14: 196, 15: 225, 16: 256, 17: 289, 18: 324, 19: 361}\n"
     ]
    }
   ],
   "source": [
    "#6.create adictionary to store the numbrs of square in between 1 to 20 both are inclusive?\n",
    "#Eg:-d={1:1,2:4,3:9................}\n",
    "d={}\n",
    "for i in range(1,20):\n",
    "    d[i]=i*i\n",
    "print(d)"
   ]
  },
  {
   "cell_type": "code",
   "execution_count": 44,
   "metadata": {},
   "outputs": [
    {
     "name": "stdout",
     "output_type": "stream",
     "text": [
      "3\n",
      "10 3\n"
     ]
    }
   ],
   "source": [
    "#7.l=[10,20,30,80,30,40,55,60] in this list find the height frequency of element?\n",
    "d={}\n",
    "l=[10,20,10,30,80,30,10,40,55,60]\n",
    "for i in l:\n",
    "    d[i]=l.count(i)\n",
    "a=list(d.values())\n",
    "h=max(a)\n",
    "print(h)\n",
    "for j in d.items():\n",
    "    if j[1]==h:\n",
    "        print(j[0],h)"
   ]
  },
  {
   "cell_type": "code",
   "execution_count": null,
   "metadata": {},
   "outputs": [],
   "source": []
  },
  {
   "cell_type": "code",
   "execution_count": null,
   "metadata": {},
   "outputs": [],
   "source": []
  }
 ],
 "metadata": {
  "kernelspec": {
   "display_name": "Python 3",
   "language": "python",
   "name": "python3"
  },
  "language_info": {
   "codemirror_mode": {
    "name": "ipython",
    "version": 3
   },
   "file_extension": ".py",
   "mimetype": "text/x-python",
   "name": "python",
   "nbconvert_exporter": "python",
   "pygments_lexer": "ipython3",
   "version": "3.7.3"
  }
 },
 "nbformat": 4,
 "nbformat_minor": 2
}
