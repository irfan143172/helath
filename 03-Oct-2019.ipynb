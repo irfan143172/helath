{
 "cells": [
  {
   "cell_type": "markdown",
   "metadata": {},
   "source": [
    "### Day Objectives\n",
    "### 03-Oct-2019\n",
    "## yesterday tasks explanation\n",
    "* sets in python"
   ]
  },
  {
   "cell_type": "code",
   "execution_count": 41,
   "metadata": {},
   "outputs": [
    {
     "name": "stdout",
     "output_type": "stream",
     "text": [
      "101\n",
      "55\n",
      "69\n",
      "78\n",
      "201\n"
     ]
    }
   ],
   "source": [
    "#1.create a function to find the lowest frequency element of given list?l=[20,33,4,5,101,20,33,5,20,33,5,4,5,4].\n",
    "#if the list is having a morethan one lowest frequencies then print the max element.\n",
    "def lowestfreq():\n",
    "    l=[20,33,4,5,101,20,33,5,20,33,5,4,5,4,55,69,78,201]\n",
    "    d={}\n",
    "    for i in l:\n",
    "        d[i]=l.count(i)\n",
    "    a=list(d.values())\n",
    "    h=min(a)\n",
    "    for j in d.items():\n",
    "        if j[1]==h:\n",
    "                print(j[0])\n",
    "lowestfreq()"
   ]
  },
  {
   "cell_type": "code",
   "execution_count": null,
   "metadata": {},
   "outputs": [],
   "source": [
    "#2.create a function to find the second highest frequency element in the given list?l=[22,1,3,44,22,3,44,44,22]\n"
   ]
  },
  {
   "cell_type": "code",
   "execution_count": null,
   "metadata": {},
   "outputs": [],
   "source": [
    "#3.create a function to find the third lowest elment in the given list?l=[20,33,4,5,101,20,33,5,20,33,5,4,5,4].\n"
   ]
  },
  {
   "cell_type": "code",
   "execution_count": null,
   "metadata": {},
   "outputs": [],
   "source": [
    "#4.create a function to find the kth frequency element in the given list?l=[20,33,4,5,101,20,23,5,20,33,5,4,5,4].\n",
    "# if the k value is greater than length of the list return -1."
   ]
  },
  {
   "cell_type": "code",
   "execution_count": null,
   "metadata": {},
   "outputs": [],
   "source": []
  },
  {
   "cell_type": "code",
   "execution_count": null,
   "metadata": {},
   "outputs": [],
   "source": []
  }
 ],
 "metadata": {
  "kernelspec": {
   "display_name": "Python 3",
   "language": "python",
   "name": "python3"
  },
  "language_info": {
   "codemirror_mode": {
    "name": "ipython",
    "version": 3
   },
   "file_extension": ".py",
   "mimetype": "text/x-python",
   "name": "python",
   "nbconvert_exporter": "python",
   "pygments_lexer": "ipython3",
   "version": "3.7.3"
  }
 },
 "nbformat": 4,
 "nbformat_minor": 2
}
